{
 "cells": [
  {
   "cell_type": "code",
   "execution_count": null,
   "id": "e50fc8a1-a32f-4dd5-a2c8-08bee3ab1ae3",
   "metadata": {},
   "outputs": [],
   "source": [
    "import torch\n",
    "import torchvision\n",
    "from torchvision.models.detection import \n",
    "#I havent sanitized the imports, it is a but much now. But whatever...\n",
    "from torchvision.transforms.v2 import functional as F\n",
    "from torchvision.transforms import v2\n",
    "from torchvision import ops\n",
    "import torchvision.transforms.v2 as transforms\n",
    "from torch.utils.data import DataLoader\n",
    "from torch.optim.lr_scheduler import CosineAnnealingLR\n",
    "from torchvision import datapoints\n",
    "from torchvision.ops import generalized_box_iou_loss\n",
    "from torch.utils import tensorboard\n",
    "from torchvision.datasets import VisionDataset\n",
    "\n",
    "\n",
    "#in models/ there are quite a few models, saved in the intermediate training steps. \n",
    "#following: ssdlite_cows_model_exxx.pth hwere xxx is n epoch\n",
    "# the latest is: models/ssdlite_cows_model_500e.pth (note the switched e)\n",
    "\n",
    "\n",
    "# loss on val-set hovered around the 0.01 range from epoch 200 onward\n",
    "# (which I think was calculated with cross-entropy and class accuracy afaik (but only 1 class: cows, with label: 0)\n",
    "# Create your SSD Lite model without any pretrained weights:\n",
    "\n",
    "model = ssdlite320_mobilenet_v3_large()\n",
    "# but then like overwrite it with the local state_dict etc.\n",
    "model.load_state_dict(torch.load(\"models/ssdlite_cows_model_500e.pth\"))\n",
    "model.eval()"
   ]
  },
  {
   "cell_type": "code",
   "execution_count": null,
   "id": "980506cb-f650-42ce-9bb8-a9a7b67eaaef",
   "metadata": {},
   "outputs": [],
   "source": [
    "class CustomDataset(VisionDataset):\n",
    "    def __init__(self, images, labels, boxes, transform=None):\n",
    "        self.images = images\n",
    "        self.labels = labels\n",
    "        self.boxes = boxes\n",
    "        self.transform = transform\n",
    "\n",
    "    def __len__(self):\n",
    "        return len(self.images)\n",
    "\n",
    "    def __getitem__(self, idx):\n",
    "        image = self.images[idx]\n",
    "        labels = torch.tensor(self.labels[idx], dtype=torch.long)\n",
    "        boxes = torch.tensor(self.boxes[idx], dtype = torch.float32)\n",
    "        target = {'boxes': boxes,\n",
    "                 'labels': labels}\n",
    "        \n",
    "        if self.transform:\n",
    "            image = self.transform(image)\n",
    "\n",
    "        return image, target"
   ]
  },
  {
   "cell_type": "code",
   "execution_count": null,
   "id": "ffc59f33-56ee-4778-9cf1-450498ba30d8",
   "metadata": {},
   "outputs": [],
   "source": [
    "def collate_fn(batch):\n",
    "    return tuple(zip(*batch))\n",
    "\n",
    "# Create the dataset\n",
    "test_dataset = torch.load(\"data/test_set.pkl\")\n",
    "# Create a DataLoader for the VOC dataset\n",
    "batch_size = 8 # server is not that amazing to deal with larger batch sizes (8 seems to work with OOM)\n",
    "\n",
    "test_loader = DataLoader(test_dataset, batch_size=batch_size, shuffle=False, collate_fn = collate_fn)"
   ]
  },
  {
   "cell_type": "code",
   "execution_count": null,
   "id": "2c7f0b5a-9cbf-45ab-aadd-ae92abc42755",
   "metadata": {},
   "outputs": [],
   "source": [
    "# predict on test set\n",
    "\n",
    "#check mAP, mIoU etc.\n",
    "\n",
    "#repeat for various quantization methodologies"
   ]
  },
  {
   "cell_type": "code",
   "execution_count": null,
   "id": "560e8bcb-5c2e-4990-aed2-cbf072ee41bd",
   "metadata": {},
   "outputs": [],
   "source": [
    "# i guess would also be fun to check if total amount of cows would be correctly counted per img.\n",
    "# we could also try to predict on the complete image: current test_loader uses the pickled Dataset with 320x320 sliced images"
   ]
  }
 ],
 "metadata": {
  "kernelspec": {
   "display_name": "Python 3 (ipykernel)",
   "language": "python",
   "name": "python3"
  },
  "language_info": {
   "codemirror_mode": {
    "name": "ipython",
    "version": 3
   },
   "file_extension": ".py",
   "mimetype": "text/x-python",
   "name": "python",
   "nbconvert_exporter": "python",
   "pygments_lexer": "ipython3",
   "version": "3.10.12"
  },
  "widgets": {
   "application/vnd.jupyter.widget-state+json": {
    "state": {},
    "version_major": 2,
    "version_minor": 0
   }
  }
 },
 "nbformat": 4,
 "nbformat_minor": 5
}
